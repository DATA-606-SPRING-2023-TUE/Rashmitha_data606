{
 "cells": [
  {
   "cell_type": "markdown",
   "id": "3c629e19",
   "metadata": {},
   "source": [
    "### Preprocessing: Train-test split and standardized scaler"
   ]
  },
  {
   "cell_type": "code",
   "execution_count": 1,
   "id": "54880e83",
   "metadata": {},
   "outputs": [],
   "source": [
    "import pandas as pd \n",
    "import numpy as np \n",
    "import plotly\n",
    "import matplotlib.pyplot as plt \n",
    "import seaborn as sns \n",
    "\n",
    "import missingno as msno\n",
    "import warnings\n",
    "warnings.filterwarnings(\"ignore\")"
   ]
  },
  {
   "cell_type": "code",
   "execution_count": 2,
   "id": "a7f277a6",
   "metadata": {},
   "outputs": [
    {
     "data": {
      "text/html": [
       "<div>\n",
       "<style scoped>\n",
       "    .dataframe tbody tr th:only-of-type {\n",
       "        vertical-align: middle;\n",
       "    }\n",
       "\n",
       "    .dataframe tbody tr th {\n",
       "        vertical-align: top;\n",
       "    }\n",
       "\n",
       "    .dataframe thead th {\n",
       "        text-align: right;\n",
       "    }\n",
       "</style>\n",
       "<table border=\"1\" class=\"dataframe\">\n",
       "  <thead>\n",
       "    <tr style=\"text-align: right;\">\n",
       "      <th></th>\n",
       "      <th>ph</th>\n",
       "      <th>Hardness</th>\n",
       "      <th>Solids</th>\n",
       "      <th>Chloramines</th>\n",
       "      <th>Sulfate</th>\n",
       "      <th>Conductivity</th>\n",
       "      <th>Organic_carbon</th>\n",
       "      <th>Trihalomethanes</th>\n",
       "      <th>Turbidity</th>\n",
       "      <th>Potability</th>\n",
       "    </tr>\n",
       "  </thead>\n",
       "  <tbody>\n",
       "    <tr>\n",
       "      <th>0</th>\n",
       "      <td>7.080795</td>\n",
       "      <td>204.890455</td>\n",
       "      <td>20791.318981</td>\n",
       "      <td>7.300212</td>\n",
       "      <td>368.516441</td>\n",
       "      <td>564.308654</td>\n",
       "      <td>10.379783</td>\n",
       "      <td>86.990970</td>\n",
       "      <td>2.963135</td>\n",
       "      <td>0</td>\n",
       "    </tr>\n",
       "    <tr>\n",
       "      <th>1</th>\n",
       "      <td>3.716080</td>\n",
       "      <td>129.422921</td>\n",
       "      <td>18630.057858</td>\n",
       "      <td>6.635246</td>\n",
       "      <td>333.775777</td>\n",
       "      <td>592.885359</td>\n",
       "      <td>15.180013</td>\n",
       "      <td>56.329076</td>\n",
       "      <td>4.500656</td>\n",
       "      <td>0</td>\n",
       "    </tr>\n",
       "    <tr>\n",
       "      <th>2</th>\n",
       "      <td>8.099124</td>\n",
       "      <td>224.236259</td>\n",
       "      <td>19909.541732</td>\n",
       "      <td>9.275884</td>\n",
       "      <td>333.775777</td>\n",
       "      <td>418.606213</td>\n",
       "      <td>16.868637</td>\n",
       "      <td>66.420093</td>\n",
       "      <td>3.055934</td>\n",
       "      <td>0</td>\n",
       "    </tr>\n",
       "    <tr>\n",
       "      <th>3</th>\n",
       "      <td>8.316766</td>\n",
       "      <td>214.373394</td>\n",
       "      <td>22018.417441</td>\n",
       "      <td>8.059332</td>\n",
       "      <td>356.886136</td>\n",
       "      <td>363.266516</td>\n",
       "      <td>18.436524</td>\n",
       "      <td>100.341674</td>\n",
       "      <td>4.628771</td>\n",
       "      <td>0</td>\n",
       "    </tr>\n",
       "    <tr>\n",
       "      <th>4</th>\n",
       "      <td>9.092223</td>\n",
       "      <td>181.101509</td>\n",
       "      <td>17978.986339</td>\n",
       "      <td>6.546600</td>\n",
       "      <td>310.135738</td>\n",
       "      <td>398.410813</td>\n",
       "      <td>11.558279</td>\n",
       "      <td>31.997993</td>\n",
       "      <td>4.075075</td>\n",
       "      <td>0</td>\n",
       "    </tr>\n",
       "    <tr>\n",
       "      <th>...</th>\n",
       "      <td>...</td>\n",
       "      <td>...</td>\n",
       "      <td>...</td>\n",
       "      <td>...</td>\n",
       "      <td>...</td>\n",
       "      <td>...</td>\n",
       "      <td>...</td>\n",
       "      <td>...</td>\n",
       "      <td>...</td>\n",
       "      <td>...</td>\n",
       "    </tr>\n",
       "    <tr>\n",
       "      <th>3855</th>\n",
       "      <td>7.080795</td>\n",
       "      <td>158.207647</td>\n",
       "      <td>45243.028953</td>\n",
       "      <td>4.064878</td>\n",
       "      <td>247.180038</td>\n",
       "      <td>399.766965</td>\n",
       "      <td>16.086232</td>\n",
       "      <td>53.502086</td>\n",
       "      <td>4.108857</td>\n",
       "      <td>1</td>\n",
       "    </tr>\n",
       "    <tr>\n",
       "      <th>3856</th>\n",
       "      <td>7.961721</td>\n",
       "      <td>224.316760</td>\n",
       "      <td>11551.215680</td>\n",
       "      <td>9.492074</td>\n",
       "      <td>367.466010</td>\n",
       "      <td>451.808446</td>\n",
       "      <td>14.911191</td>\n",
       "      <td>79.687039</td>\n",
       "      <td>2.286943</td>\n",
       "      <td>1</td>\n",
       "    </tr>\n",
       "    <tr>\n",
       "      <th>3857</th>\n",
       "      <td>7.669013</td>\n",
       "      <td>205.595635</td>\n",
       "      <td>11579.441693</td>\n",
       "      <td>4.263279</td>\n",
       "      <td>356.136518</td>\n",
       "      <td>407.721613</td>\n",
       "      <td>10.829045</td>\n",
       "      <td>83.243808</td>\n",
       "      <td>4.589513</td>\n",
       "      <td>1</td>\n",
       "    </tr>\n",
       "    <tr>\n",
       "      <th>3858</th>\n",
       "      <td>7.371914</td>\n",
       "      <td>148.193698</td>\n",
       "      <td>42059.380417</td>\n",
       "      <td>7.966710</td>\n",
       "      <td>324.546262</td>\n",
       "      <td>544.848432</td>\n",
       "      <td>17.166504</td>\n",
       "      <td>62.677756</td>\n",
       "      <td>4.338957</td>\n",
       "      <td>1</td>\n",
       "    </tr>\n",
       "    <tr>\n",
       "      <th>3859</th>\n",
       "      <td>6.833111</td>\n",
       "      <td>178.658074</td>\n",
       "      <td>31461.196760</td>\n",
       "      <td>7.942857</td>\n",
       "      <td>302.535371</td>\n",
       "      <td>415.097438</td>\n",
       "      <td>19.370328</td>\n",
       "      <td>66.396293</td>\n",
       "      <td>3.021574</td>\n",
       "      <td>1</td>\n",
       "    </tr>\n",
       "  </tbody>\n",
       "</table>\n",
       "<p>3860 rows × 10 columns</p>\n",
       "</div>"
      ],
      "text/plain": [
       "            ph    Hardness        Solids  Chloramines     Sulfate  \\\n",
       "0     7.080795  204.890455  20791.318981     7.300212  368.516441   \n",
       "1     3.716080  129.422921  18630.057858     6.635246  333.775777   \n",
       "2     8.099124  224.236259  19909.541732     9.275884  333.775777   \n",
       "3     8.316766  214.373394  22018.417441     8.059332  356.886136   \n",
       "4     9.092223  181.101509  17978.986339     6.546600  310.135738   \n",
       "...        ...         ...           ...          ...         ...   \n",
       "3855  7.080795  158.207647  45243.028953     4.064878  247.180038   \n",
       "3856  7.961721  224.316760  11551.215680     9.492074  367.466010   \n",
       "3857  7.669013  205.595635  11579.441693     4.263279  356.136518   \n",
       "3858  7.371914  148.193698  42059.380417     7.966710  324.546262   \n",
       "3859  6.833111  178.658074  31461.196760     7.942857  302.535371   \n",
       "\n",
       "      Conductivity  Organic_carbon  Trihalomethanes  Turbidity  Potability  \n",
       "0       564.308654       10.379783        86.990970   2.963135           0  \n",
       "1       592.885359       15.180013        56.329076   4.500656           0  \n",
       "2       418.606213       16.868637        66.420093   3.055934           0  \n",
       "3       363.266516       18.436524       100.341674   4.628771           0  \n",
       "4       398.410813       11.558279        31.997993   4.075075           0  \n",
       "...            ...             ...              ...        ...         ...  \n",
       "3855    399.766965       16.086232        53.502086   4.108857           1  \n",
       "3856    451.808446       14.911191        79.687039   2.286943           1  \n",
       "3857    407.721613       10.829045        83.243808   4.589513           1  \n",
       "3858    544.848432       17.166504        62.677756   4.338957           1  \n",
       "3859    415.097438       19.370328        66.396293   3.021574           1  \n",
       "\n",
       "[3860 rows x 10 columns]"
      ]
     },
     "execution_count": 2,
     "metadata": {},
     "output_type": "execute_result"
    }
   ],
   "source": [
    "data = pd.read_csv(\"water_portability_cleaned.csv\")\n",
    "df = pd.DataFrame(data)\n",
    "df"
   ]
  },
  {
   "cell_type": "code",
   "execution_count": 3,
   "id": "d2647634",
   "metadata": {
    "id": "I45BWaeKCYog"
   },
   "outputs": [],
   "source": [
    "from sklearn.model_selection import train_test_split\n",
    "\n",
    "X = df.drop('Potability',axis=1)\n",
    "y = df['Potability']\n",
    "\n",
    "X_train,X_test, y_train, y_test = train_test_split(X, y, test_size=0.2, random_state=42)"
   ]
  },
  {
   "cell_type": "code",
   "execution_count": 4,
   "id": "c65ef33e",
   "metadata": {
    "id": "cYoJfOMWikKG"
   },
   "outputs": [],
   "source": [
    "from sklearn.preprocessing import StandardScaler\n",
    "\n",
    "scale = StandardScaler()\n",
    "X_train=scale.fit_transform(X_train)\n",
    "X_test=scale.transform(X_test)"
   ]
  },
  {
   "cell_type": "code",
   "execution_count": 5,
   "id": "fbff1826",
   "metadata": {
    "colab": {
     "base_uri": "https://localhost:8080/"
    },
    "id": "GqAnpOlws3Qa",
    "outputId": "82690568-2896-4fa4-dedc-446d747553f2"
   },
   "outputs": [
    {
     "name": "stdout",
     "output_type": "stream",
     "text": [
      "X_train: (3088, 9) \n",
      "y_train: (3088,)\n",
      "X_test: (772, 9) \n",
      "y_test: (772,)\n"
     ]
    }
   ],
   "source": [
    "print(\"X_train:\", X_train.shape, \"\\ny_train:\", y_train.shape)\n",
    "print(\"X_test:\", X_test.shape, \"\\ny_test:\", y_test.shape)"
   ]
  },
  {
   "cell_type": "markdown",
   "id": "07545ea5",
   "metadata": {
    "id": "npw3wN3NWIoD"
   },
   "source": [
    "### Exploring dimensionalty reduction using PCA:"
   ]
  },
  {
   "cell_type": "code",
   "execution_count": 6,
   "id": "57d39cb1",
   "metadata": {},
   "outputs": [
    {
     "data": {
      "image/png": "[encoded data removed]",
      "text/plain": [
       "<Figure size 432x288 with 1 Axes>"
      ]
     },
     "metadata": {
      "needs_background": "light"
     },
     "output_type": "display_data"
    }
   ],
   "source": [
    "from sklearn.decomposition import PCA\n",
    "pca = PCA()\n",
    "X_train_pca = pca.fit_transform(X_train)\n",
    "exp_var_pca = pca.explained_variance_ratio_\n",
    "\n",
    "cum_sum_eigenvalues = np.cumsum(exp_var_pca)\n",
    "\n",
    "fig, ax = plt.subplots()\n",
    "ax.bar(range(len(exp_var_pca)), exp_var_pca, alpha=0.5, align='center', color='blue', label='Individual explained variance')\n",
    "ax.step(range(len(cum_sum_eigenvalues)), cum_sum_eigenvalues, where='mid', color='red', label='Cumulative explained variance')\n",
    "ax.set_ylabel('Explained variance ratio')\n",
    "ax.set_xlabel('Principal component index')\n",
    "ax.set_title(\"Water Quality PCA\")\n",
    "ax.legend(loc='best')\n",
    "plt.show()\n"
   ]
  },
  {
   "cell_type": "markdown",
   "id": "2f728d94",
   "metadata": {
    "colab": {
     "base_uri": "https://localhost:8080/",
     "height": 295
    },
    "id": "0OpvDKTYFyY1",
    "outputId": "3543b50d-7159-4e7d-f5ed-4cb7987011d7"
   },
   "source": [
    "All of the features are independent, according to PCA, which supports our earlier findings from the correlation matrix and heatmap that the features do not have linear correlations with one another. According to this PCA analysis of the explained variance ratio, 8 additional components are still required to fully explain 80% of the variance. Dimensionality reduction will therefore not be helpful for this dataset."
   ]
  },
  {
   "cell_type": "code",
   "execution_count": null,
   "id": "ef78016a",
   "metadata": {},
   "outputs": [],
   "source": []
  },
  {
   "cell_type": "markdown",
   "id": "d1a95684",
   "metadata": {
    "id": "Eb8dHUdBW_BI"
   },
   "source": [
    "### Model Training -- First Iteration"
   ]
  },
  {
   "cell_type": "code",
   "execution_count": 7,
   "id": "4145d0f7",
   "metadata": {
    "id": "zGRSGNyE5g7-"
   },
   "outputs": [],
   "source": [
    "from sklearn.metrics import precision_score, accuracy_score, mean_absolute_error, mean_squared_error, confusion_matrix, classification_report, recall_score, f1_score\n",
    "\n",
    "from sklearn.linear_model import LogisticRegression\n",
    "from sklearn.svm import SVC\n",
    "from sklearn.tree import DecisionTreeClassifier\n",
    "from sklearn.neighbors import KNeighborsClassifier\n",
    "from sklearn.ensemble import RandomForestClassifier\n",
    "from xgboost import XGBClassifier"
   ]
  },
  {
   "cell_type": "markdown",
   "id": "34e0c6e7",
   "metadata": {
    "id": "VjDGDBDaYcmn"
   },
   "source": [
    "#### 1. Logistic Regression -- First Iteration"
   ]
  },
  {
   "cell_type": "code",
   "execution_count": 8,
   "id": "033678e6",
   "metadata": {
    "id": "36XfrH7iYcmo"
   },
   "outputs": [],
   "source": [
    "LogReg = LogisticRegression()\n",
    "LogReg.fit(X_train, y_train)\n",
    "LogReg_pred = LogReg.predict(X_test)\n",
    "LogReg_acc = accuracy_score(y_test, LogReg_pred)\n",
    "LogReg_mae = mean_absolute_error(y_test, LogReg_pred)\n",
    "LogReg_mse = mean_squared_error(y_test, LogReg_pred)\n",
    "LogReg_rmse = np.sqrt(mean_squared_error(y_test, LogReg_pred))\n",
    "LogReg_precision = precision_score(y_test, LogReg_pred)\n",
    "LogReg_recall = recall_score(y_test, LogReg_pred)\n",
    "LogReg_f1 = f1_score(y_test, LogReg_pred)"
   ]
  },
  {
   "cell_type": "code",
   "execution_count": 9,
   "id": "0f1bf67e",
   "metadata": {
    "colab": {
     "base_uri": "https://localhost:8080/"
    },
    "id": "0wl6sdYAYcmp",
    "outputId": "8fbb3e5e-08ff-4199-ccaa-96195eb81ccd"
   },
   "outputs": [
    {
     "name": "stdout",
     "output_type": "stream",
     "text": [
      "The accuracy for Logistic Regression is 0.48575129533678757\n",
      "The classification report using Logistic Regression is:\n",
      "              precision    recall  f1-score   support\n",
      "\n",
      "           0       0.50      0.43      0.46       400\n",
      "           1       0.47      0.55      0.51       372\n",
      "\n",
      "    accuracy                           0.49       772\n",
      "   macro avg       0.49      0.49      0.48       772\n",
      "weighted avg       0.49      0.49      0.48       772\n",
      "\n"
     ]
    }
   ],
   "source": [
    "print(\"The accuracy for Logistic Regression is\", LogReg_acc)\n",
    "print(\"The classification report using Logistic Regression is:\")\n",
    "print(classification_report(y_test, LogReg_pred))"
   ]
  },
  {
   "cell_type": "code",
   "execution_count": 10,
   "id": "b784ce87",
   "metadata": {
    "colab": {
     "base_uri": "https://localhost:8080/",
     "height": 299
    },
    "id": "Joh7fwIluDOc",
    "outputId": "7f6dda30-42ee-4d88-ac7b-54cbae977104"
   },
   "outputs": [
    {
     "data": {
      "text/plain": [
       "Text(0.5, 1.0, 'Logisitic Regression Confusion Matrix')"
      ]
     },
     "execution_count": 10,
     "metadata": {},
     "output_type": "execute_result"
    },
    {
     "data": {
      "image/png": "[encoded data removed]",
      "text/plain": [
       "<Figure size 432x288 with 2 Axes>"
      ]
     },
     "metadata": {
      "needs_background": "light"
     },
     "output_type": "display_data"
    }
   ],
   "source": [
    "LogReg_cm = confusion_matrix(y_test, LogReg_pred)\n",
    "sns.heatmap(LogReg_cm/np.sum(LogReg_cm), annot = True, fmt = '0.2%', cmap = 'Oranges')\n",
    "plt.title(\"Logisitic Regression Confusion Matrix\")"
   ]
  },
  {
   "cell_type": "markdown",
   "id": "9db30862",
   "metadata": {
    "id": "R01d8zk7Ycmr"
   },
   "source": [
    "#### 2. K-Nearest Neighbour Regression -- First Iteration"
   ]
  },
  {
   "cell_type": "code",
   "execution_count": 11,
   "id": "af72e396",
   "metadata": {
    "id": "BhGQz0eIYcms"
   },
   "outputs": [],
   "source": [
    "KNN = KNeighborsClassifier()\n",
    "KNN.fit(X_train, y_train)\n",
    "KNN_pred = KNN.predict(X_test)\n",
    "KNN_acc = accuracy_score(y_test, KNN_pred)\n",
    "KNN_mae = mean_absolute_error(y_test, KNN_pred)\n",
    "KNN_mse = mean_squared_error(y_test, KNN_pred)\n",
    "KNN_rmse = np.sqrt(mean_squared_error(y_test, KNN_pred))\n",
    "KNN_precision = precision_score(y_test, KNN_pred) \n",
    "KNN_recall = recall_score(y_test, KNN_pred) \n",
    "KNN_f1 = f1_score(y_test, KNN_pred)"
   ]
  },
  {
   "cell_type": "code",
   "execution_count": 12,
   "id": "d88d79e4",
   "metadata": {
    "colab": {
     "base_uri": "https://localhost:8080/"
    },
    "id": "hX23pOmTYcms",
    "outputId": "e1cf7413-2972-40be-acf9-17cb7425ec4a"
   },
   "outputs": [
    {
     "name": "stdout",
     "output_type": "stream",
     "text": [
      "The accuracy for KNeighbors is 0.6489637305699482\n",
      "The classification report using KNeighbors is: 0.6489637305699482\n",
      "              precision    recall  f1-score   support\n",
      "\n",
      "           0       0.68      0.61      0.64       400\n",
      "           1       0.62      0.69      0.65       372\n",
      "\n",
      "    accuracy                           0.65       772\n",
      "   macro avg       0.65      0.65      0.65       772\n",
      "weighted avg       0.65      0.65      0.65       772\n",
      "\n"
     ]
    }
   ],
   "source": [
    "print(\"The accuracy for KNeighbors is\", KNN_acc)\n",
    "print(\"The classification report using KNeighbors is:\", KNN_acc)\n",
    "print(classification_report(y_test, KNN_pred))"
   ]
  },
  {
   "cell_type": "code",
   "execution_count": 13,
   "id": "14cc4654",
   "metadata": {
    "colab": {
     "base_uri": "https://localhost:8080/",
     "height": 299
    },
    "id": "IHonLAdLuqXD",
    "outputId": "7b35c1d3-b40c-4e2b-e147-895106cf7a46"
   },
   "outputs": [
    {
     "data": {
      "text/plain": [
       "Text(0.5, 1.0, 'KNN Regression Confusion Matrix')"
      ]
     },
     "execution_count": 13,
     "metadata": {},
     "output_type": "execute_result"
    },
    {
     "data": {
      "image/png": "[encoded data removed]",
      "text/plain": [
       "<Figure size 432x288 with 2 Axes>"
      ]
     },
     "metadata": {
      "needs_background": "light"
     },
     "output_type": "display_data"
    }
   ],
   "source": [
    "KNN_cm = confusion_matrix(y_test, KNN_pred)\n",
    "sns.heatmap(KNN_cm/np.sum(KNN_cm), annot = True, fmt = '0.2%', cmap = 'Oranges')\n",
    "plt.title(\"KNN Regression Confusion Matrix\")"
   ]
  },
  {
   "cell_type": "markdown",
   "id": "f1977405",
   "metadata": {
    "id": "wiIlOCVCYcmt"
   },
   "source": [
    "#### 3. Decision Tree Classifier -- First Iteration"
   ]
  },
  {
   "cell_type": "code",
   "execution_count": 14,
   "id": "a6450814",
   "metadata": {
    "id": "ydDTtnJxYcmu"
   },
   "outputs": [],
   "source": [
    "DecTree = DecisionTreeClassifier()\n",
    "DecTree.fit(X_train, y_train)\n",
    "DecTree_pred = DecTree.predict(X_test)\n",
    "DecTree_acc = accuracy_score(y_test, DecTree_pred)\n",
    "DecTree_precision = precision_score(y_test, DecTree_pred) \n",
    "DecTree_recall = recall_score(y_test, DecTree_pred) \n",
    "DecTree_f1 = f1_score(y_test, DecTree_pred)"
   ]
  },
  {
   "cell_type": "code",
   "execution_count": 15,
   "id": "05b30aad",
   "metadata": {
    "colab": {
     "base_uri": "https://localhost:8080/"
    },
    "id": "Q92D8GH9Ycmv",
    "outputId": "1f9b8396-ef9d-4565-a0f3-9c7fb0ac69c8"
   },
   "outputs": [
    {
     "name": "stdout",
     "output_type": "stream",
     "text": [
      "The accuracy for Decision Tree is 0.7940414507772021\n",
      "The classification report using Decision Tree is:\n",
      "              precision    recall  f1-score   support\n",
      "\n",
      "           0       0.87      0.71      0.78       400\n",
      "           1       0.74      0.89      0.81       372\n",
      "\n",
      "    accuracy                           0.79       772\n",
      "   macro avg       0.80      0.80      0.79       772\n",
      "weighted avg       0.81      0.79      0.79       772\n",
      "\n"
     ]
    }
   ],
   "source": [
    "print(\"The accuracy for Decision Tree is\", DecTree_acc)\n",
    "print(\"The classification report using Decision Tree is:\")\n",
    "print(classification_report(y_test, DecTree_pred))"
   ]
  },
  {
   "cell_type": "code",
   "execution_count": 16,
   "id": "b0eb8223",
   "metadata": {
    "colab": {
     "base_uri": "https://localhost:8080/",
     "height": 299
    },
    "id": "pps7zDpGwY7K",
    "outputId": "261e0fc9-031b-4c8b-85ae-f6e484706c1d"
   },
   "outputs": [
    {
     "data": {
      "text/plain": [
       "Text(0.5, 1.0, 'Decision Tree Confusion Matrix')"
      ]
     },
     "execution_count": 16,
     "metadata": {},
     "output_type": "execute_result"
    },
    {
     "data": {
      "image/png": "[encoded data removed]",
      "text/plain": [
       "<Figure size 432x288 with 2 Axes>"
      ]
     },
     "metadata": {
      "needs_background": "light"
     },
     "output_type": "display_data"
    }
   ],
   "source": [
    "DecTree_cm = confusion_matrix(y_test, DecTree_pred)\n",
    "sns.heatmap(DecTree_cm/np.sum(DecTree_cm), annot = True, fmt = '0.2%', cmap = 'Oranges')\n",
    "plt.title(\"Decision Tree Confusion Matrix\")"
   ]
  },
  {
   "cell_type": "markdown",
   "id": "e3c9c84c",
   "metadata": {
    "id": "626amNTDYcmw"
   },
   "source": [
    "#### 4. Random Forest Classifier -- First Iteration"
   ]
  },
  {
   "cell_type": "code",
   "execution_count": 17,
   "id": "4aa2e3d8",
   "metadata": {
    "id": "x65nIfyfYcmw"
   },
   "outputs": [],
   "source": [
    "RFTree = RandomForestClassifier()\n",
    "RFTree.fit(X_train, y_train)\n",
    "RFTree_pred = RFTree.predict(X_test)\n",
    "RFTree_acc = accuracy_score(y_test, RFTree_pred)\n",
    "RFTree_precision = precision_score(y_test, RFTree_pred) \n",
    "RFTree_recall = recall_score(y_test, RFTree_pred) \n",
    "RFTree_f1 = f1_score(y_test, RFTree_pred)"
   ]
  },
  {
   "cell_type": "code",
   "execution_count": 18,
   "id": "7f5f39d6",
   "metadata": {
    "colab": {
     "base_uri": "https://localhost:8080/"
    },
    "id": "JnFg3USAYcmx",
    "outputId": "936da294-290a-47ad-fcce-f155888d6974"
   },
   "outputs": [
    {
     "name": "stdout",
     "output_type": "stream",
     "text": [
      "The accuracy for Random Forest is 0.8432642487046632\n",
      "The classification report using Random Forest is:\n",
      "              precision    recall  f1-score   support\n",
      "\n",
      "           0       0.85      0.85      0.85       400\n",
      "           1       0.84      0.84      0.84       372\n",
      "\n",
      "    accuracy                           0.84       772\n",
      "   macro avg       0.84      0.84      0.84       772\n",
      "weighted avg       0.84      0.84      0.84       772\n",
      "\n"
     ]
    }
   ],
   "source": [
    "print(\"The accuracy for Random Forest is\", RFTree_acc)\n",
    "print(\"The classification report using Random Forest is:\")\n",
    "print(classification_report(y_test, RFTree_pred))"
   ]
  },
  {
   "cell_type": "code",
   "execution_count": 19,
   "id": "549d15ff",
   "metadata": {
    "colab": {
     "base_uri": "https://localhost:8080/",
     "height": 299
    },
    "id": "0xOTAC0VwoEU",
    "outputId": "b5b0be00-f4b9-47bd-b9ff-652cc7da36ce"
   },
   "outputs": [
    {
     "data": {
      "text/plain": [
       "Text(0.5, 1.0, 'Random Forest Confusion Matrix')"
      ]
     },
     "execution_count": 19,
     "metadata": {},
     "output_type": "execute_result"
    },
    {
     "data": {
      "image/png": "[encoded data removed]",
      "text/plain": [
       "<Figure size 432x288 with 2 Axes>"
      ]
     },
     "metadata": {
      "needs_background": "light"
     },
     "output_type": "display_data"
    }
   ],
   "source": [
    "RFTree_cm = confusion_matrix(y_test, RFTree_pred)\n",
    "sns.heatmap(RFTree_cm/np.sum(RFTree_cm), annot = True, fmt = '0.2%', cmap = 'Oranges')\n",
    "plt.title(\"Random Forest Confusion Matrix\")"
   ]
  },
  {
   "cell_type": "markdown",
   "id": "c6a6db2d",
   "metadata": {
    "id": "AvpGTalwYcmy"
   },
   "source": [
    "#### 5. Support Vector Machine Classifier -- First Iteration"
   ]
  },
  {
   "cell_type": "code",
   "execution_count": 20,
   "id": "e0f30507",
   "metadata": {
    "id": "kUWDYEFTYcmy"
   },
   "outputs": [],
   "source": [
    "SVM = SVC()\n",
    "SVM.fit(X_train, y_train)\n",
    "SVM_pred = SVM.predict(X_test)\n",
    "SVM_acc = accuracy_score(y_test, SVM_pred)\n",
    "SVM_precision = precision_score(y_test, SVM_pred) \n",
    "SVM_recall = recall_score(y_test, SVM_pred) \n",
    "SVM_f1 = f1_score(y_test, SVM_pred)"
   ]
  },
  {
   "cell_type": "code",
   "execution_count": 21,
   "id": "de52cc25",
   "metadata": {
    "colab": {
     "base_uri": "https://localhost:8080/"
    },
    "id": "fBSmwWg4Ycmz",
    "outputId": "aee2141d-bf40-48ce-a1e2-cddf2362097e"
   },
   "outputs": [
    {
     "name": "stdout",
     "output_type": "stream",
     "text": [
      "The accuracy for SVM is 0.6593264248704663\n",
      "The classification report using SVM is: 0.6593264248704663\n",
      "              precision    recall  f1-score   support\n",
      "\n",
      "           0       0.68      0.65      0.66       400\n",
      "           1       0.64      0.67      0.65       372\n",
      "\n",
      "    accuracy                           0.66       772\n",
      "   macro avg       0.66      0.66      0.66       772\n",
      "weighted avg       0.66      0.66      0.66       772\n",
      "\n"
     ]
    }
   ],
   "source": [
    "print(\"The accuracy for SVM is\", SVM_acc)\n",
    "print(\"The classification report using SVM is:\", SVM_acc)\n",
    "print(classification_report(y_test, SVM_pred))"
   ]
  },
  {
   "cell_type": "code",
   "execution_count": 22,
   "id": "bfc496d9",
   "metadata": {
    "colab": {
     "base_uri": "https://localhost:8080/",
     "height": 299
    },
    "id": "X53LOa1xxB3q",
    "outputId": "579c9f81-d600-4dad-d814-1e1dcd366201"
   },
   "outputs": [
    {
     "data": {
      "text/plain": [
       "Text(0.5, 1.0, 'SVM Confusion Matrix')"
      ]
     },
     "execution_count": 22,
     "metadata": {},
     "output_type": "execute_result"
    },
    {
     "data": {
      "image/png": "[encoded data removed]",
      "text/plain": [
       "<Figure size 432x288 with 2 Axes>"
      ]
     },
     "metadata": {
      "needs_background": "light"
     },
     "output_type": "display_data"
    }
   ],
   "source": [
    "SVM_cm = confusion_matrix(y_test, SVM_pred)\n",
    "sns.heatmap(SVM_cm/np.sum(SVM_cm), annot = True, fmt = '0.2%', cmap = 'Oranges')\n",
    "plt.title(\"SVM Confusion Matrix\")"
   ]
  },
  {
   "cell_type": "markdown",
   "id": "ed807587",
   "metadata": {
    "id": "9R88u1DmYcm0"
   },
   "source": [
    "#### 6. XGBoost Classifier -- First Interation"
   ]
  },
  {
   "cell_type": "code",
   "execution_count": 23,
   "id": "84c9004f",
   "metadata": {
    "id": "ducu9sr6Ycm1"
   },
   "outputs": [],
   "source": [
    "XGB = XGBClassifier()\n",
    "XGB.fit(X_train, y_train)\n",
    "XGB_pred = XGB.predict(X_test)\n",
    "XGB_acc = accuracy_score(y_test, XGB_pred)\n",
    "XGB_precision = precision_score(y_test, XGB_pred)\n",
    "XGB_recall = recall_score(y_test, XGB_pred)\n",
    "XGB_f1 = f1_score(y_test, XGB_pred)"
   ]
  },
  {
   "cell_type": "code",
   "execution_count": 24,
   "id": "c97b792c",
   "metadata": {
    "colab": {
     "base_uri": "https://localhost:8080/"
    },
    "id": "yWp9FjOJYcm1",
    "outputId": "221025f7-6ee4-478f-a510-d277aca43907"
   },
   "outputs": [
    {
     "name": "stdout",
     "output_type": "stream",
     "text": [
      "The accuracy for XGBoost is 0.7927461139896373\n",
      "The classification report using XGBoost is: 0.7927461139896373\n",
      "              precision    recall  f1-score   support\n",
      "\n",
      "           0       0.84      0.74      0.79       400\n",
      "           1       0.75      0.84      0.80       372\n",
      "\n",
      "    accuracy                           0.79       772\n",
      "   macro avg       0.80      0.79      0.79       772\n",
      "weighted avg       0.80      0.79      0.79       772\n",
      "\n"
     ]
    }
   ],
   "source": [
    "print(\"The accuracy for XGBoost is\", XGB_acc)\n",
    "print(\"The classification report using XGBoost is:\", XGB_acc)\n",
    "print(classification_report(y_test, XGB_pred))"
   ]
  },
  {
   "cell_type": "code",
   "execution_count": 25,
   "id": "e08aa7c1",
   "metadata": {
    "colab": {
     "base_uri": "https://localhost:8080/",
     "height": 299
    },
    "id": "mfEslSCzxmCn",
    "outputId": "ae3a2b60-f503-47d0-b27c-b8bc25bb929d"
   },
   "outputs": [
    {
     "data": {
      "text/plain": [
       "Text(0.5, 1.0, 'XGBoost Confusion Matrix')"
      ]
     },
     "execution_count": 25,
     "metadata": {},
     "output_type": "execute_result"
    },
    {
     "data": {
      "image/png": "[encoded data removed]",
      "text/plain": [
       "<Figure size 432x288 with 2 Axes>"
      ]
     },
     "metadata": {
      "needs_background": "light"
     },
     "output_type": "display_data"
    }
   ],
   "source": [
    "XGB_cm = confusion_matrix(y_test, XGB_pred)\n",
    "sns.heatmap(XGB_cm/np.sum(XGB_cm), annot = True, fmt = '0.2%', cmap = 'Oranges')\n",
    "plt.title(\"XGBoost Confusion Matrix\")"
   ]
  },
  {
   "cell_type": "markdown",
   "id": "087a2c90",
   "metadata": {
    "id": "xdnkp_cMt4zO"
   },
   "source": [
    "#### Algorithm Comparison -- First Iteration"
   ]
  },
  {
   "cell_type": "code",
   "execution_count": 26,
   "id": "f38b4ab0",
   "metadata": {
    "id": "gKibR9osYcm2"
   },
   "outputs": [],
   "source": [
    "models = pd.DataFrame({\n",
    "    'Model':['Logistic Regression', 'KNN Regression', 'Decision Tree', 'Random Forest', 'Support Vector', 'XGBoost'],\n",
    "    'Accuracy' :[LogReg_acc, KNN_acc, DecTree_acc, RFTree_acc, SVM_acc, XGB_acc],\n",
    "    'Precision' :[LogReg_precision, KNN_precision, DecTree_precision, RFTree_precision, SVM_precision, XGB_precision],\n",
    "    'Recall' :[LogReg_recall, KNN_recall, DecTree_recall, RFTree_recall, SVM_recall, XGB_recall],\n",
    "    'F1 Score' :[LogReg_f1, KNN_f1, DecTree_f1, RFTree_f1, SVM_f1, XGB_f1]\n",
    "})\n",
    "models = models.sort_values(by='Accuracy', ascending=False)"
   ]
  },
  {
   "cell_type": "code",
   "execution_count": 27,
   "id": "304513c3",
   "metadata": {
    "colab": {
     "base_uri": "https://localhost:8080/",
     "height": 237
    },
    "id": "EVLTYHF_Ycm2",
    "outputId": "551668d6-e6a4-4373-9459-1cc44c32f0b7"
   },
   "outputs": [
    {
     "data": {
      "text/html": [
       "<div>\n",
       "<style scoped>\n",
       "    .dataframe tbody tr th:only-of-type {\n",
       "        vertical-align: middle;\n",
       "    }\n",
       "\n",
       "    .dataframe tbody tr th {\n",
       "        vertical-align: top;\n",
       "    }\n",
       "\n",
       "    .dataframe thead th {\n",
       "        text-align: right;\n",
       "    }\n",
       "</style>\n",
       "<table border=\"1\" class=\"dataframe\">\n",
       "  <thead>\n",
       "    <tr style=\"text-align: right;\">\n",
       "      <th></th>\n",
       "      <th>Model</th>\n",
       "      <th>Accuracy</th>\n",
       "      <th>Precision</th>\n",
       "      <th>Recall</th>\n",
       "      <th>F1 Score</th>\n",
       "    </tr>\n",
       "  </thead>\n",
       "  <tbody>\n",
       "    <tr>\n",
       "      <th>3</th>\n",
       "      <td>Random Forest</td>\n",
       "      <td>0.843264</td>\n",
       "      <td>0.838275</td>\n",
       "      <td>0.836022</td>\n",
       "      <td>0.837147</td>\n",
       "    </tr>\n",
       "    <tr>\n",
       "      <th>2</th>\n",
       "      <td>Decision Tree</td>\n",
       "      <td>0.794041</td>\n",
       "      <td>0.738255</td>\n",
       "      <td>0.887097</td>\n",
       "      <td>0.805861</td>\n",
       "    </tr>\n",
       "    <tr>\n",
       "      <th>5</th>\n",
       "      <td>XGBoost</td>\n",
       "      <td>0.792746</td>\n",
       "      <td>0.754808</td>\n",
       "      <td>0.844086</td>\n",
       "      <td>0.796954</td>\n",
       "    </tr>\n",
       "    <tr>\n",
       "      <th>4</th>\n",
       "      <td>Support Vector</td>\n",
       "      <td>0.659326</td>\n",
       "      <td>0.640103</td>\n",
       "      <td>0.669355</td>\n",
       "      <td>0.654402</td>\n",
       "    </tr>\n",
       "    <tr>\n",
       "      <th>1</th>\n",
       "      <td>KNN Regression</td>\n",
       "      <td>0.648964</td>\n",
       "      <td>0.622871</td>\n",
       "      <td>0.688172</td>\n",
       "      <td>0.653895</td>\n",
       "    </tr>\n",
       "    <tr>\n",
       "      <th>0</th>\n",
       "      <td>Logistic Regression</td>\n",
       "      <td>0.485751</td>\n",
       "      <td>0.470998</td>\n",
       "      <td>0.545699</td>\n",
       "      <td>0.505604</td>\n",
       "    </tr>\n",
       "  </tbody>\n",
       "</table>\n",
       "</div>"
      ],
      "text/plain": [
       "                 Model  Accuracy  Precision    Recall  F1 Score\n",
       "3        Random Forest  0.843264   0.838275  0.836022  0.837147\n",
       "2        Decision Tree  0.794041   0.738255  0.887097  0.805861\n",
       "5              XGBoost  0.792746   0.754808  0.844086  0.796954\n",
       "4       Support Vector  0.659326   0.640103  0.669355  0.654402\n",
       "1       KNN Regression  0.648964   0.622871  0.688172  0.653895\n",
       "0  Logistic Regression  0.485751   0.470998  0.545699  0.505604"
      ]
     },
     "execution_count": 27,
     "metadata": {},
     "output_type": "execute_result"
    }
   ],
   "source": [
    "models"
   ]
  },
  {
   "cell_type": "code",
   "execution_count": 28,
   "id": "10e34ac2",
   "metadata": {
    "colab": {
     "base_uri": "https://localhost:8080/",
     "height": 555
    },
    "id": "GV-jhvKRYcm3",
    "outputId": "bc2157e6-caf8-4d59-90f7-059c9bdb43eb"
   },
   "outputs": [
    {
     "data": {
      "image/png": "[encoded data removed]",
      "text/plain": [
       "<Figure size 1080x648 with 1 Axes>"
      ]
     },
     "metadata": {
      "needs_background": "light"
     },
     "output_type": "display_data"
    }
   ],
   "source": [
    "fig = plt.figure(figsize=(15,9))\n",
    "\n",
    "ax = sns.barplot(data=models, \n",
    "                 y='Model', \n",
    "                 x='Accuracy',\n",
    "                 palette = 'Oranges_r')\n",
    "\n",
    "ax.figure.suptitle('Performance of Models -- First Iteration',y=0.91, size = 16, color = 'black', weight='bold');\n",
    "\n",
    "plt.xlabel('Accuracy')\n",
    "plt.ylabel('Models')\n",
    "plt.axvline(x = 0.8, ymin = 0, ymax = 1,\n",
    "            linewidth = 2, linestyle =\":\",\n",
    "            color ='#cf7849');"
   ]
  },
  {
   "cell_type": "markdown",
   "id": "3030327f",
   "metadata": {
    "id": "cl0I_JFCZ0Pr"
   },
   "source": [
    "After the first iteration of model training we can see that Logistic Regression performed the lowest while KNN, SVM  had close accuracy values around 70% and Descision Tree has around 78%. XGBoost  had a 82% accuracy while Random Forest was able to be accurate to 84% "
   ]
  },
  {
   "cell_type": "markdown",
   "id": "cebd40c6",
   "metadata": {
    "id": "F2u41wVrCRbr"
   },
   "source": [
    "### Hyper-tunning parameters"
   ]
  },
  {
   "cell_type": "code",
   "execution_count": 29,
   "id": "f0893681",
   "metadata": {
    "id": "rrjGftyGCVVj"
   },
   "outputs": [],
   "source": [
    "from sklearn.model_selection import RandomizedSearchCV, GridSearchCV\n",
    "\n",
    "lgr = LogisticRegression()\n",
    "knn = KNeighborsClassifier()\n",
    "dt = DecisionTreeClassifier()\n",
    "rf = RandomForestClassifier()\n",
    "svc = SVC()\n",
    "xgb =XGBClassifier(eval_metric = 'logloss', use_label_encoder=False)"
   ]
  },
  {
   "cell_type": "code",
   "execution_count": 30,
   "id": "7bdcab61",
   "metadata": {
    "colab": {
     "base_uri": "https://localhost:8080/"
    },
    "id": "NMhqPsnpaeyj",
    "outputId": "a974b404-ad4e-47cd-d493-418906804111"
   },
   "outputs": [
    {
     "name": "stdout",
     "output_type": "stream",
     "text": [
      "Best parameters for Logistic Regression: {'penalty': 'l1', 'solver': 'liblinear'}\n"
     ]
    }
   ],
   "source": [
    "para_lgr = {'solver':['newton-cg', 'lbfgs', 'sag', 'saga', 'liblinear'], 'penalty': ['l1', 'l2', 'elasticnet', 'none']}\n",
    "grid_lgr = GridSearchCV(lgr, param_grid=para_lgr, cv=5)\n",
    "grid_lgr.fit(X_train, y_train)\n",
    "print(\"Best parameters for Logistic Regression:\", grid_lgr.best_params_)"
   ]
  },
  {
   "cell_type": "code",
   "execution_count": 31,
   "id": "2b721a08",
   "metadata": {
    "colab": {
     "base_uri": "https://localhost:8080/"
    },
    "id": "tlBT_4YQT4TB",
    "outputId": "c6468930-90d5-44a3-c2b6-e90cf7e0fc0f"
   },
   "outputs": [
    {
     "name": "stdout",
     "output_type": "stream",
     "text": [
      "Best parameters for KNN: {'algorithm': 'auto', 'n_neighbors': 48, 'weights': 'distance'}\n"
     ]
    }
   ],
   "source": [
    "para_knn = {'n_neighbors':np.arange(1, 50), 'weights': ['uniform', 'distance'], 'algorithm': ['auto', 'ball_tree', 'kd_tree', 'brute']}\n",
    "grid_knn = GridSearchCV(knn, param_grid=para_knn, cv=5)\n",
    "grid_knn.fit(X_train, y_train)\n",
    "print(\"Best parameters for KNN:\", grid_knn.best_params_)"
   ]
  },
  {
   "cell_type": "code",
   "execution_count": 32,
   "id": "3b344f49",
   "metadata": {
    "colab": {
     "base_uri": "https://localhost:8080/"
    },
    "id": "9JgksXpxUA6x",
    "outputId": "2558c143-5acf-41e1-a353-aaf0790361bc"
   },
   "outputs": [
    {
     "name": "stdout",
     "output_type": "stream",
     "text": [
      "Best parameters for Decision Tree: {'criterion': 'entropy', 'max_depth': 45, 'min_samples_leaf': 1}\n"
     ]
    }
   ],
   "source": [
    "para_dt = {'criterion':['gini','entropy'],'max_depth':np.arange(1, 50), 'min_samples_leaf':[1,2,4,5,10,20,30,40,80,100]}\n",
    "grid_dt = GridSearchCV(dt, param_grid=para_dt, cv=5) \n",
    "grid_dt.fit(X_train, y_train)\n",
    "print(\"Best parameters for Decision Tree:\", grid_dt.best_params_)"
   ]
  },
  {
   "cell_type": "code",
   "execution_count": 33,
   "id": "b76fed97",
   "metadata": {
    "colab": {
     "base_uri": "https://localhost:8080/"
    },
    "id": "0qA1zLINUI-7",
    "outputId": "cec0e1a8-642b-4597-d9a0-85702ad2f5b2"
   },
   "outputs": [
    {
     "name": "stdout",
     "output_type": "stream",
     "text": [
      "Best parameters for Random Forest: {'min_samples_leaf': 2, 'n_estimators': 350}\n"
     ]
    }
   ],
   "source": [
    "params_rf = {'n_estimators':[100,200, 350, 500], 'min_samples_leaf':[2, 10, 30]}\n",
    "grid_rf = GridSearchCV(rf, param_grid=params_rf, cv=5)\n",
    "grid_rf.fit(X_train, y_train)\n",
    "print(\"Best parameters for Random Forest:\", grid_rf.best_params_)"
   ]
  },
  {
   "cell_type": "code",
   "execution_count": 34,
   "id": "c2e75b0a",
   "metadata": {
    "colab": {
     "base_uri": "https://localhost:8080/"
    },
    "id": "YvY_ggcjbjZH",
    "outputId": "bfc7af4e-f792-4bab-bfd9-85de4318b72e"
   },
   "outputs": [
    {
     "name": "stdout",
     "output_type": "stream",
     "text": [
      "Best parameters for SVM: {'C': 1, 'gamma': 1, 'kernel': 'rbf'}\n"
     ]
    }
   ],
   "source": [
    "para_svc = {'C': [0.1, 1, 10, 100, 1000], 'gamma': [1, 0.1, 0.01, 0.001, 0.0001],\n",
    "              'kernel': ['rbf']}\n",
    "grid_svc = GridSearchCV(svc, param_grid=para_svc, cv=5)\n",
    "grid_svc.fit(X_train, y_train)\n",
    "print(\"Best parameters for SVM:\", grid_svc.best_params_)"
   ]
  },
  {
   "cell_type": "code",
   "execution_count": 35,
   "id": "96733cfc",
   "metadata": {
    "colab": {
     "base_uri": "https://localhost:8080/"
    },
    "id": "WHJjj1nRUPRU",
    "outputId": "6229f450-8927-44bf-dbf5-d3021b2a9e11"
   },
   "outputs": [
    {
     "name": "stdout",
     "output_type": "stream",
     "text": [
      "Best parameters for XGBoost: {'n_estimators': 1000, 'learning_rate': 0.8}\n"
     ]
    }
   ],
   "source": [
    "params_xgb = {'n_estimators': [50,100,250,400,600,800,1000], 'learning_rate': [0.2,0.5,0.8,1]}\n",
    "rs_xgb =  RandomizedSearchCV(xgb, param_distributions=params_xgb, cv=5)\n",
    "rs_xgb.fit(X_train, y_train)\n",
    "print(\"Best parameters for XGBoost:\", rs_xgb.best_params_)"
   ]
  },
  {
   "cell_type": "markdown",
   "id": "9a4d8c09",
   "metadata": {
    "id": "TN0WTauwBec2"
   },
   "source": [
    "#Predictive Modeling/Classication -- Second Iteration:\n",
    "After hypertuning"
   ]
  },
  {
   "cell_type": "markdown",
   "id": "3210daaf",
   "metadata": {
    "id": "WdM45niqUG-I"
   },
   "source": [
    "#1. Logistic Regression -- Second Iteration"
   ]
  },
  {
   "cell_type": "code",
   "execution_count": 36,
   "id": "01cc922c",
   "metadata": {
    "id": "sa1AvCrfUA2b"
   },
   "outputs": [],
   "source": [
    "LogReg2 = LogisticRegression(penalty = 'l1', solver= 'liblinear')\n",
    "LogReg2.fit(X_train, y_train)\n",
    "LogReg2_pred = LogReg2.predict(X_test)\n",
    "LogReg2_acc = accuracy_score(y_test, LogReg2_pred)\n",
    "LogReg2_mae = mean_absolute_error(y_test, LogReg2_pred)\n",
    "LogReg2_mse = mean_squared_error(y_test, LogReg2_pred)\n",
    "LogReg2_rmse = np.sqrt(mean_squared_error(y_test, LogReg2_pred))\n",
    "LogReg2_precision = precision_score(y_test, LogReg2_pred)\n",
    "LogReg2_recall = recall_score(y_test, LogReg2_pred)\n",
    "LogReg2_f1 = f1_score(y_test, LogReg2_pred)"
   ]
  },
  {
   "cell_type": "code",
   "execution_count": 37,
   "id": "583b162d",
   "metadata": {
    "colab": {
     "base_uri": "https://localhost:8080/"
    },
    "id": "qlwf2Ok4Qt-G",
    "outputId": "da2edb18-f387-43cb-d64b-6d14d8b8fa26"
   },
   "outputs": [
    {
     "name": "stdout",
     "output_type": "stream",
     "text": [
      "The accuracy for Logistic Regression is 0.48575129533678757\n",
      "The classification report using Logistic Regression is:\n",
      "              precision    recall  f1-score   support\n",
      "\n",
      "           0       0.50      0.43      0.46       400\n",
      "           1       0.47      0.55      0.51       372\n",
      "\n",
      "    accuracy                           0.49       772\n",
      "   macro avg       0.49      0.49      0.48       772\n",
      "weighted avg       0.49      0.49      0.48       772\n",
      "\n"
     ]
    }
   ],
   "source": [
    "print(\"The accuracy for Logistic Regression is\", LogReg2_acc)\n",
    "print(\"The classification report using Logistic Regression is:\")\n",
    "print(classification_report(y_test, LogReg2_pred))"
   ]
  },
  {
   "cell_type": "code",
   "execution_count": 38,
   "id": "2606dd6e",
   "metadata": {
    "colab": {
     "base_uri": "https://localhost:8080/",
     "height": 299
    },
    "id": "9aPS94D7Redk",
    "outputId": "6507ee07-28ce-4419-df80-5017807a2e8c"
   },
   "outputs": [
    {
     "data": {
      "text/plain": [
       "Text(0.5, 1.0, 'Logisitic Regression Confusion Matrix')"
      ]
     },
     "execution_count": 38,
     "metadata": {},
     "output_type": "execute_result"
    },
    {
     "data": {
      "image/png": "[encoded data removed]",
      "text/plain": [
       "<Figure size 432x288 with 2 Axes>"
      ]
     },
     "metadata": {
      "needs_background": "light"
     },
     "output_type": "display_data"
    }
   ],
   "source": [
    "LogReg2_cm = confusion_matrix(y_test, LogReg2_pred)\n",
    "sns.heatmap(LogReg2_cm/np.sum(LogReg2_cm), annot = True, fmt = '0.2%', cmap = 'Blues')\n",
    "plt.title(\"Logisitic Regression Confusion Matrix\")"
   ]
  },
  {
   "cell_type": "markdown",
   "id": "a10a1391",
   "metadata": {
    "id": "uTfNeYovSL7l"
   },
   "source": [
    "#2. K-Nearest Neighbour Regression -- Second Iteration"
   ]
  },
  {
   "cell_type": "code",
   "execution_count": 39,
   "id": "031c2d90",
   "metadata": {
    "id": "bLqVuYvrST9h"
   },
   "outputs": [],
   "source": [
    "KNN2 = KNeighborsClassifier(algorithm = 'auto', n_neighbors = 1, weights ='uniform')\n",
    "KNN2.fit(X_train, y_train)\n",
    "KNN2_pred = KNN2.predict(X_test)\n",
    "KNN2_acc = accuracy_score(y_test, KNN2_pred)\n",
    "KNN2_mae = mean_absolute_error(y_test, KNN2_pred)\n",
    "KNN2_mse = mean_squared_error(y_test, KNN2_pred)\n",
    "KNN2_rmse = np.sqrt(mean_squared_error(y_test, KNN2_pred))\n",
    "KNN2_precision = precision_score(y_test, KNN2_pred) \n",
    "KNN2_recall = recall_score(y_test, KNN2_pred) \n",
    "KNN2_f1 = f1_score(y_test, KNN2_pred)"
   ]
  },
  {
   "cell_type": "code",
   "execution_count": 40,
   "id": "f6ae6ea0",
   "metadata": {
    "colab": {
     "base_uri": "https://localhost:8080/"
    },
    "id": "yKnPt1w6TJFk",
    "outputId": "dbd3615a-09ef-4721-95e4-8f8ee74f1de4"
   },
   "outputs": [
    {
     "name": "stdout",
     "output_type": "stream",
     "text": [
      "The accuracy for KNeighbors is 0.7746113989637305\n",
      "The classification report using KNeighbors is: 0.7746113989637305\n",
      "              precision    recall  f1-score   support\n",
      "\n",
      "           0       0.84      0.69      0.76       400\n",
      "           1       0.72      0.86      0.79       372\n",
      "\n",
      "    accuracy                           0.77       772\n",
      "   macro avg       0.78      0.78      0.77       772\n",
      "weighted avg       0.79      0.77      0.77       772\n",
      "\n"
     ]
    }
   ],
   "source": [
    "print(\"The accuracy for KNeighbors is\", KNN2_acc)\n",
    "print(\"The classification report using KNeighbors is:\", KNN2_acc)\n",
    "print(classification_report(y_test, KNN2_pred))"
   ]
  },
  {
   "cell_type": "code",
   "execution_count": 41,
   "id": "71ad475a",
   "metadata": {
    "colab": {
     "base_uri": "https://localhost:8080/",
     "height": 299
    },
    "id": "1u8FNFBOTh2y",
    "outputId": "8ff9dd9d-7369-4383-b178-981e510a04b7"
   },
   "outputs": [
    {
     "data": {
      "text/plain": [
       "Text(0.5, 1.0, 'KNN Regression Confusion Matrix')"
      ]
     },
     "execution_count": 41,
     "metadata": {},
     "output_type": "execute_result"
    },
    {
     "data": {
      "image/png": "[encoded data removed]",
      "text/plain": [
       "<Figure size 432x288 with 2 Axes>"
      ]
     },
     "metadata": {
      "needs_background": "light"
     },
     "output_type": "display_data"
    }
   ],
   "source": [
    "KNN2_cm = confusion_matrix(y_test, KNN2_pred)\n",
    "sns.heatmap(KNN2_cm/np.sum(KNN2_cm), annot = True, fmt = '0.2%', cmap = 'Blues')\n",
    "plt.title(\"KNN Regression Confusion Matrix\")"
   ]
  },
  {
   "cell_type": "markdown",
   "id": "b0e4bb44",
   "metadata": {
    "id": "2aY_yRDYT3eT"
   },
   "source": [
    "#3. Decision Tree Classifier -- Second Iteration"
   ]
  },
  {
   "cell_type": "code",
   "execution_count": 42,
   "id": "25d92a3c",
   "metadata": {
    "id": "MI8X6-63T3IK"
   },
   "outputs": [],
   "source": [
    "DecTree2 = DecisionTreeClassifier(criterion = 'entropy', max_depth = 44, min_samples_leaf = 1)\n",
    "DecTree2.fit(X_train, y_train)\n",
    "DecTree2_pred = DecTree2.predict(X_test)\n",
    "DecTree2_acc = accuracy_score(y_test, DecTree2_pred)\n",
    "DecTree2_precision = precision_score(y_test, DecTree2_pred) \n",
    "DecTree2_recall = recall_score(y_test, DecTree2_pred) \n",
    "DecTree2_f1 = f1_score(y_test, DecTree2_pred)"
   ]
  },
  {
   "cell_type": "code",
   "execution_count": 43,
   "id": "3a93d01d",
   "metadata": {
    "colab": {
     "base_uri": "https://localhost:8080/"
    },
    "id": "Ldtl8UQDWMfD",
    "outputId": "191fa58b-0287-4fef-9ee3-d02ff869b17a"
   },
   "outputs": [
    {
     "name": "stdout",
     "output_type": "stream",
     "text": [
      "The accuracy for Decision Tree is 0.7875647668393783\n",
      "The classification report using Decision Tree is:\n",
      "              precision    recall  f1-score   support\n",
      "\n",
      "           0       0.86      0.70      0.77       400\n",
      "           1       0.73      0.88      0.80       372\n",
      "\n",
      "    accuracy                           0.79       772\n",
      "   macro avg       0.80      0.79      0.79       772\n",
      "weighted avg       0.80      0.79      0.79       772\n",
      "\n"
     ]
    }
   ],
   "source": [
    "print(\"The accuracy for Decision Tree is\", DecTree2_acc)\n",
    "print(\"The classification report using Decision Tree is:\")\n",
    "print(classification_report(y_test, DecTree2_pred))"
   ]
  },
  {
   "cell_type": "code",
   "execution_count": 44,
   "id": "5b39ee23",
   "metadata": {
    "colab": {
     "base_uri": "https://localhost:8080/",
     "height": 299
    },
    "id": "HUzuUXspWd_j",
    "outputId": "e52bfb7e-4206-4977-fb02-dae96d10c819"
   },
   "outputs": [
    {
     "data": {
      "text/plain": [
       "Text(0.5, 1.0, 'Decision Tree Confusion Matrix')"
      ]
     },
     "execution_count": 44,
     "metadata": {},
     "output_type": "execute_result"
    },
    {
     "data": {
      "image/png": "[encoded data removed]",
      "text/plain": [
       "<Figure size 432x288 with 2 Axes>"
      ]
     },
     "metadata": {
      "needs_background": "light"
     },
     "output_type": "display_data"
    }
   ],
   "source": [
    "DecTree2_cm = confusion_matrix(y_test, DecTree2_pred)\n",
    "sns.heatmap(DecTree2_cm/np.sum(DecTree2_cm), annot = True, fmt = '0.2%', cmap = 'Blues')\n",
    "plt.title(\"Decision Tree Confusion Matrix\")"
   ]
  },
  {
   "cell_type": "markdown",
   "id": "472e3fb6",
   "metadata": {
    "id": "sD5Z7N45W0aE"
   },
   "source": [
    "#4. Random Forest Classifier --  Second Iteration"
   ]
  },
  {
   "cell_type": "code",
   "execution_count": 45,
   "id": "13dd78ba",
   "metadata": {
    "id": "D1fpMy8WW8pf"
   },
   "outputs": [],
   "source": [
    "RFTree2 = RandomForestClassifier(min_samples_leaf = 2, n_estimators = 200)\n",
    "RFTree2.fit(X_train, y_train)\n",
    "RFTree2_pred = RFTree2.predict(X_test)\n",
    "RFTree2_acc = accuracy_score(y_test, RFTree2_pred)\n",
    "RFTree2_precision = precision_score(y_test, RFTree2_pred) \n",
    "RFTree2_recall = recall_score(y_test, RFTree2_pred) \n",
    "RFTree2_f1 = f1_score(y_test, RFTree2_pred)"
   ]
  },
  {
   "cell_type": "code",
   "execution_count": 46,
   "id": "2211141e",
   "metadata": {
    "colab": {
     "base_uri": "https://localhost:8080/"
    },
    "id": "foJsRQZYXPth",
    "outputId": "17b4077f-89e2-49c8-e7b1-d6bab097e7f7"
   },
   "outputs": [
    {
     "name": "stdout",
     "output_type": "stream",
     "text": [
      "The accuracy for Random Forest is 0.8484455958549223\n",
      "The classification report using Random Forest is:\n",
      "              precision    recall  f1-score   support\n",
      "\n",
      "           0       0.86      0.85      0.85       400\n",
      "           1       0.84      0.85      0.84       372\n",
      "\n",
      "    accuracy                           0.85       772\n",
      "   macro avg       0.85      0.85      0.85       772\n",
      "weighted avg       0.85      0.85      0.85       772\n",
      "\n"
     ]
    }
   ],
   "source": [
    "print(\"The accuracy for Random Forest is\", RFTree2_acc)\n",
    "print(\"The classification report using Random Forest is:\")\n",
    "print(classification_report(y_test, RFTree2_pred))"
   ]
  },
  {
   "cell_type": "code",
   "execution_count": 47,
   "id": "3c66a54b",
   "metadata": {
    "colab": {
     "base_uri": "https://localhost:8080/",
     "height": 299
    },
    "id": "lfupLz4OXVF7",
    "outputId": "cbd8d728-3b4c-4963-cf58-75a1d2a4eeef"
   },
   "outputs": [
    {
     "data": {
      "text/plain": [
       "Text(0.5, 1.0, 'Random Forest Confusion Matrix')"
      ]
     },
     "execution_count": 47,
     "metadata": {},
     "output_type": "execute_result"
    },
    {
     "data": {
      "image/png": "[encoded data removed]",
      "text/plain": [
       "<Figure size 432x288 with 2 Axes>"
      ]
     },
     "metadata": {
      "needs_background": "light"
     },
     "output_type": "display_data"
    }
   ],
   "source": [
    "RFTree2_cm = confusion_matrix(y_test, RFTree2_pred)\n",
    "sns.heatmap(RFTree2_cm/np.sum(RFTree2_cm), annot = True, fmt = '0.2%', cmap = 'Blues')\n",
    "plt.title(\"Random Forest Confusion Matrix\")"
   ]
  },
  {
   "cell_type": "markdown",
   "id": "f5affd76",
   "metadata": {
    "id": "VZQ8EdnHXidL"
   },
   "source": [
    "#5. Support Vector Machine Classifier -- Second Iteration"
   ]
  },
  {
   "cell_type": "code",
   "execution_count": 48,
   "id": "eadf74de",
   "metadata": {
    "id": "JJH2SCPoXsrG"
   },
   "outputs": [],
   "source": [
    "SVM2 = SVC(C = 10, gamma = 1, kernel = 'rbf')\n",
    "SVM2.fit(X_train, y_train)\n",
    "SVM2_pred = SVM2.predict(X_test)\n",
    "SVM2_acc = accuracy_score(y_test, SVM2_pred)\n",
    "SVM2_precision = precision_score(y_test, SVM2_pred) \n",
    "SVM2_recall = recall_score(y_test, SVM2_pred) \n",
    "SVM2_f1 = f1_score(y_test, SVM2_pred)"
   ]
  },
  {
   "cell_type": "code",
   "execution_count": 49,
   "id": "53f5e82e",
   "metadata": {
    "colab": {
     "base_uri": "https://localhost:8080/"
    },
    "id": "pAVMqLkTX8Ei",
    "outputId": "38513f34-4962-4708-9317-4488df58d38f"
   },
   "outputs": [
    {
     "name": "stdout",
     "output_type": "stream",
     "text": [
      "The accuracy for SVM is 0.822538860103627\n",
      "The classification report using SVM is: 0.822538860103627\n",
      "              precision    recall  f1-score   support\n",
      "\n",
      "           0       0.81      0.87      0.84       400\n",
      "           1       0.84      0.77      0.81       372\n",
      "\n",
      "    accuracy                           0.82       772\n",
      "   macro avg       0.82      0.82      0.82       772\n",
      "weighted avg       0.82      0.82      0.82       772\n",
      "\n"
     ]
    }
   ],
   "source": [
    "print(\"The accuracy for SVM is\", SVM2_acc)\n",
    "print(\"The classification report using SVM is:\", SVM2_acc)\n",
    "print(classification_report(y_test, SVM2_pred))"
   ]
  },
  {
   "cell_type": "code",
   "execution_count": 50,
   "id": "05e9d6f6",
   "metadata": {
    "colab": {
     "base_uri": "https://localhost:8080/",
     "height": 299
    },
    "id": "Ov_8T_3QX_Mf",
    "outputId": "d9e58a22-ed34-4c1a-a6e6-04af85918e4c"
   },
   "outputs": [
    {
     "data": {
      "text/plain": [
       "Text(0.5, 1.0, 'SVM Confusion Matrix')"
      ]
     },
     "execution_count": 50,
     "metadata": {},
     "output_type": "execute_result"
    },
    {
     "data": {
      "image/png": "[encoded data removed]",
      "text/plain": [
       "<Figure size 432x288 with 2 Axes>"
      ]
     },
     "metadata": {
      "needs_background": "light"
     },
     "output_type": "display_data"
    }
   ],
   "source": [
    "SVM2_cm = confusion_matrix(y_test, SVM2_pred)\n",
    "sns.heatmap(SVM2_cm/np.sum(SVM2_cm), annot = True, fmt = '0.2%', cmap = 'Blues')\n",
    "plt.title(\"SVM Confusion Matrix\")"
   ]
  },
  {
   "cell_type": "markdown",
   "id": "e047f4d5",
   "metadata": {
    "id": "rOtdv7ZUYhtp"
   },
   "source": [
    "#6. XGBoost Classifier -- Second Iteration"
   ]
  },
  {
   "cell_type": "code",
   "execution_count": 51,
   "id": "1ef0deec",
   "metadata": {
    "id": "tHdFhyTOYuH8"
   },
   "outputs": [],
   "source": [
    "XGB2 = XGBClassifier(n_estimators = 600, learning_rate = 0.8)\n",
    "XGB2.fit(X_train, y_train)\n",
    "XGB2_pred = XGB2.predict(X_test)\n",
    "XGB2_acc = accuracy_score(y_test, XGB2_pred)\n",
    "XGB2_precision = precision_score(y_test, XGB2_pred)\n",
    "XGB2_recall = recall_score(y_test, XGB2_pred)\n",
    "XGB2_f1 = f1_score(y_test, XGB2_pred)"
   ]
  },
  {
   "cell_type": "code",
   "execution_count": 52,
   "id": "f16d5515",
   "metadata": {
    "colab": {
     "base_uri": "https://localhost:8080/"
    },
    "id": "hQAzBpDkY1VG",
    "outputId": "6fd4869e-945a-4dc6-c581-ec20b4529c7b"
   },
   "outputs": [
    {
     "name": "stdout",
     "output_type": "stream",
     "text": [
      "The accuracy for XGBoost is 0.8160621761658031\n",
      "The classification report using XGBoost is: 0.8160621761658031\n",
      "              precision    recall  f1-score   support\n",
      "\n",
      "           0       0.86      0.78      0.81       400\n",
      "           1       0.78      0.86      0.82       372\n",
      "\n",
      "    accuracy                           0.82       772\n",
      "   macro avg       0.82      0.82      0.82       772\n",
      "weighted avg       0.82      0.82      0.82       772\n",
      "\n"
     ]
    }
   ],
   "source": [
    "print(\"The accuracy for XGBoost is\", XGB2_acc)\n",
    "print(\"The classification report using XGBoost is:\", XGB2_acc)\n",
    "print(classification_report(y_test, XGB2_pred))"
   ]
  },
  {
   "cell_type": "code",
   "execution_count": 53,
   "id": "753358c2",
   "metadata": {
    "colab": {
     "base_uri": "https://localhost:8080/",
     "height": 299
    },
    "id": "wnPWrIfPY6Ww",
    "outputId": "3181f77f-aec4-47b2-a5a9-f25d8ee8d84b"
   },
   "outputs": [
    {
     "data": {
      "text/plain": [
       "Text(0.5, 1.0, 'XGBoost Confusion Matrix')"
      ]
     },
     "execution_count": 53,
     "metadata": {},
     "output_type": "execute_result"
    },
    {
     "data": {
      "image/png": "[encoded data removed]",
      "text/plain": [
       "<Figure size 432x288 with 2 Axes>"
      ]
     },
     "metadata": {
      "needs_background": "light"
     },
     "output_type": "display_data"
    }
   ],
   "source": [
    "XGB2_cm = confusion_matrix(y_test, XGB2_pred)\n",
    "sns.heatmap(XGB2_cm/np.sum(XGB2_cm), annot = True, fmt = '0.2%', cmap = 'Blues')\n",
    "plt.title(\"XGBoost Confusion Matrix\")"
   ]
  },
  {
   "cell_type": "markdown",
   "id": "ac650f57",
   "metadata": {
    "id": "-nhh3mGAT9VJ"
   },
   "source": [
    "#Comparing Models -- Second Iteration:"
   ]
  },
  {
   "cell_type": "code",
   "execution_count": 54,
   "id": "406f6080",
   "metadata": {
    "id": "eer-riIoaRSh"
   },
   "outputs": [],
   "source": [
    "models2 = pd.DataFrame({\n",
    "    'Model':['Logistic Regression', 'KNN Regression', 'Decision Tree', 'Random Forest', 'Support Vector', 'XGBoost'],\n",
    "    'Accuracy' :[LogReg2_acc, KNN2_acc, DecTree2_acc, RFTree2_acc, SVM2_acc, XGB2_acc],\n",
    "    'Precision' :[LogReg2_precision, KNN2_precision, DecTree2_precision, RFTree2_precision, SVM2_precision, XGB2_precision],\n",
    "    'Recall' :[LogReg2_recall, KNN2_recall, DecTree2_recall, RFTree2_recall, SVM2_recall, XGB2_recall],\n",
    "    'F1 Score' :[LogReg2_f1, KNN2_f1, DecTree2_f1, RFTree2_f1, SVM2_f1, XGB2_f1]\n",
    "})\n",
    "models2 = models2.sort_values(by='Accuracy', ascending=False)"
   ]
  },
  {
   "cell_type": "code",
   "execution_count": 55,
   "id": "5a0b5e8b",
   "metadata": {
    "colab": {
     "base_uri": "https://localhost:8080/",
     "height": 237
    },
    "id": "Y3llo_K6KdvB",
    "outputId": "c235419e-f508-4dbb-a55f-b77b798d6987"
   },
   "outputs": [
    {
     "data": {
      "text/html": [
       "<div>\n",
       "<style scoped>\n",
       "    .dataframe tbody tr th:only-of-type {\n",
       "        vertical-align: middle;\n",
       "    }\n",
       "\n",
       "    .dataframe tbody tr th {\n",
       "        vertical-align: top;\n",
       "    }\n",
       "\n",
       "    .dataframe thead th {\n",
       "        text-align: right;\n",
       "    }\n",
       "</style>\n",
       "<table border=\"1\" class=\"dataframe\">\n",
       "  <thead>\n",
       "    <tr style=\"text-align: right;\">\n",
       "      <th></th>\n",
       "      <th>Model</th>\n",
       "      <th>Accuracy</th>\n",
       "      <th>Precision</th>\n",
       "      <th>Recall</th>\n",
       "      <th>F1 Score</th>\n",
       "    </tr>\n",
       "  </thead>\n",
       "  <tbody>\n",
       "    <tr>\n",
       "      <th>3</th>\n",
       "      <td>Random Forest</td>\n",
       "      <td>0.848446</td>\n",
       "      <td>0.840000</td>\n",
       "      <td>0.846774</td>\n",
       "      <td>0.843373</td>\n",
       "    </tr>\n",
       "    <tr>\n",
       "      <th>4</th>\n",
       "      <td>Support Vector</td>\n",
       "      <td>0.822539</td>\n",
       "      <td>0.844575</td>\n",
       "      <td>0.774194</td>\n",
       "      <td>0.807854</td>\n",
       "    </tr>\n",
       "    <tr>\n",
       "      <th>5</th>\n",
       "      <td>XGBoost</td>\n",
       "      <td>0.816062</td>\n",
       "      <td>0.780488</td>\n",
       "      <td>0.860215</td>\n",
       "      <td>0.818414</td>\n",
       "    </tr>\n",
       "    <tr>\n",
       "      <th>2</th>\n",
       "      <td>Decision Tree</td>\n",
       "      <td>0.787565</td>\n",
       "      <td>0.734234</td>\n",
       "      <td>0.876344</td>\n",
       "      <td>0.799020</td>\n",
       "    </tr>\n",
       "    <tr>\n",
       "      <th>1</th>\n",
       "      <td>KNN Regression</td>\n",
       "      <td>0.774611</td>\n",
       "      <td>0.722973</td>\n",
       "      <td>0.862903</td>\n",
       "      <td>0.786765</td>\n",
       "    </tr>\n",
       "    <tr>\n",
       "      <th>0</th>\n",
       "      <td>Logistic Regression</td>\n",
       "      <td>0.485751</td>\n",
       "      <td>0.470998</td>\n",
       "      <td>0.545699</td>\n",
       "      <td>0.505604</td>\n",
       "    </tr>\n",
       "  </tbody>\n",
       "</table>\n",
       "</div>"
      ],
      "text/plain": [
       "                 Model  Accuracy  Precision    Recall  F1 Score\n",
       "3        Random Forest  0.848446   0.840000  0.846774  0.843373\n",
       "4       Support Vector  0.822539   0.844575  0.774194  0.807854\n",
       "5              XGBoost  0.816062   0.780488  0.860215  0.818414\n",
       "2        Decision Tree  0.787565   0.734234  0.876344  0.799020\n",
       "1       KNN Regression  0.774611   0.722973  0.862903  0.786765\n",
       "0  Logistic Regression  0.485751   0.470998  0.545699  0.505604"
      ]
     },
     "execution_count": 55,
     "metadata": {},
     "output_type": "execute_result"
    }
   ],
   "source": [
    "models2"
   ]
  },
  {
   "cell_type": "code",
   "execution_count": 56,
   "id": "3476489d",
   "metadata": {
    "colab": {
     "base_uri": "https://localhost:8080/",
     "height": 555
    },
    "id": "FpEaaUhj6EJH",
    "outputId": "ca2ada12-623f-450d-e93a-f6517d34b913"
   },
   "outputs": [
    {
     "data": {
      "image/png": "[encoded data removed]",
      "text/plain": [
       "<Figure size 1080x648 with 1 Axes>"
      ]
     },
     "metadata": {
      "needs_background": "light"
     },
     "output_type": "display_data"
    }
   ],
   "source": [
    "fig = plt.figure(figsize=(15,9))\n",
    "\n",
    "ax = sns.barplot(data=models2, \n",
    "                 y='Model', \n",
    "                 x='Accuracy',\n",
    "                 palette = 'Blues_r')\n",
    "\n",
    "ax.figure.suptitle('Performance of Models -- Second Iteration',y=0.91, size = 16, color = 'black', weight='bold');\n",
    "\n",
    "plt.xlabel('Accuracy')\n",
    "plt.ylabel('Models')\n",
    "plt.axvline(x = 0.8, ymin = 0, ymax = 1,\n",
    "            linewidth = 2, linestyle =\":\",\n",
    "            color ='#cf7849');"
   ]
  },
  {
   "cell_type": "markdown",
   "id": "efe317ae",
   "metadata": {
    "id": "oDMvx6hJnNPm"
   },
   "source": [
    "#Comparing First and Second Iterations:"
   ]
  },
  {
   "cell_type": "code",
   "execution_count": 57,
   "id": "b4ed0be9",
   "metadata": {
    "colab": {
     "base_uri": "https://localhost:8080/",
     "height": 237
    },
    "id": "3RAX4o9EnSUl",
    "outputId": "b679f585-180e-4a56-859f-1a8823bca3e9"
   },
   "outputs": [
    {
     "data": {
      "text/html": [
       "<div>\n",
       "<style scoped>\n",
       "    .dataframe tbody tr th:only-of-type {\n",
       "        vertical-align: middle;\n",
       "    }\n",
       "\n",
       "    .dataframe tbody tr th {\n",
       "        vertical-align: top;\n",
       "    }\n",
       "\n",
       "    .dataframe thead th {\n",
       "        text-align: right;\n",
       "    }\n",
       "</style>\n",
       "<table border=\"1\" class=\"dataframe\">\n",
       "  <thead>\n",
       "    <tr style=\"text-align: right;\">\n",
       "      <th></th>\n",
       "      <th>Model</th>\n",
       "      <th>2nd Iteration</th>\n",
       "      <th>1st Iteration</th>\n",
       "    </tr>\n",
       "  </thead>\n",
       "  <tbody>\n",
       "    <tr>\n",
       "      <th>0</th>\n",
       "      <td>Logistic Regression</td>\n",
       "      <td>0.485751</td>\n",
       "      <td>0.485751</td>\n",
       "    </tr>\n",
       "    <tr>\n",
       "      <th>1</th>\n",
       "      <td>KNN Regression</td>\n",
       "      <td>0.774611</td>\n",
       "      <td>0.648964</td>\n",
       "    </tr>\n",
       "    <tr>\n",
       "      <th>2</th>\n",
       "      <td>Decision Tree</td>\n",
       "      <td>0.787565</td>\n",
       "      <td>0.794041</td>\n",
       "    </tr>\n",
       "    <tr>\n",
       "      <th>3</th>\n",
       "      <td>Random Forest</td>\n",
       "      <td>0.848446</td>\n",
       "      <td>0.843264</td>\n",
       "    </tr>\n",
       "    <tr>\n",
       "      <th>4</th>\n",
       "      <td>Support Vector</td>\n",
       "      <td>0.822539</td>\n",
       "      <td>0.659326</td>\n",
       "    </tr>\n",
       "    <tr>\n",
       "      <th>5</th>\n",
       "      <td>XGBoost</td>\n",
       "      <td>0.816062</td>\n",
       "      <td>0.792746</td>\n",
       "    </tr>\n",
       "  </tbody>\n",
       "</table>\n",
       "</div>"
      ],
      "text/plain": [
       "                 Model  2nd Iteration  1st Iteration\n",
       "0  Logistic Regression       0.485751       0.485751\n",
       "1       KNN Regression       0.774611       0.648964\n",
       "2        Decision Tree       0.787565       0.794041\n",
       "3        Random Forest       0.848446       0.843264\n",
       "4       Support Vector       0.822539       0.659326\n",
       "5              XGBoost       0.816062       0.792746"
      ]
     },
     "execution_count": 57,
     "metadata": {},
     "output_type": "execute_result"
    }
   ],
   "source": [
    "comp_iterations = pd.DataFrame({\n",
    "    'Model':['Logistic Regression', 'KNN Regression', 'Decision Tree', 'Random Forest', 'Support Vector', 'XGBoost'],\n",
    "    '2nd Iteration' :[LogReg2_acc, KNN2_acc, DecTree2_acc, RFTree2_acc, SVM2_acc, XGB2_acc],\n",
    "    '1st Iteration' :[LogReg_acc, KNN_acc, DecTree_acc, RFTree_acc, SVM_acc, XGB_acc],\n",
    "})\n",
    "comp_iterations"
   ]
  },
  {
   "cell_type": "code",
   "execution_count": 58,
   "id": "5eff3619",
   "metadata": {
    "colab": {
     "base_uri": "https://localhost:8080/",
     "height": 490
    },
    "id": "RFZr1PW9p3Ua",
    "outputId": "cfa7caa6-5cfc-4a2b-c020-56720539f29c"
   },
   "outputs": [
    {
     "data": {
      "image/png": "[encoded data removed]",
      "text/plain": [
       "<Figure size 864x432 with 1 Axes>"
      ]
     },
     "metadata": {
      "needs_background": "light"
     },
     "output_type": "display_data"
    }
   ],
   "source": [
    "comp_iterations.plot.bar(figsize=(12,6))\n",
    "plt.xticks([0,1,2,3,4,5],['Logistic Regression', 'KNN Regression', 'Decision Tree', 'Random Forest', 'Support Vector', 'XGBoost'])\n",
    "plt.ylabel('Percentage of Accuracy') \n",
    "plt.xlabel('Model') \n",
    "plt.title('Comparison between Iterations');"
   ]
  },
  {
   "cell_type": "markdown",
   "id": "aa3f3aba",
   "metadata": {
    "id": "z8eO2xRvtDaL"
   },
   "source": [
    "After our second iteration of model (with hypertuning) we can see that Random Forest Classifier algortihm performed the best with the highest accuracy. We will use Random Forest and SVM to continue our model evaluation with cross validation"
   ]
  },
  {
   "cell_type": "markdown",
   "id": "f5ece585",
   "metadata": {
    "id": "hNVnm8ysxatE"
   },
   "source": [
    "#Cross Validation"
   ]
  },
  {
   "cell_type": "code",
   "execution_count": 59,
   "id": "a284042c",
   "metadata": {
    "colab": {
     "base_uri": "https://localhost:8080/"
    },
    "id": "5qWTyVmFzf0R",
    "outputId": "06941e8d-8a15-42e2-eb49-a8fe84d0cc4a"
   },
   "outputs": [
    {
     "name": "stdout",
     "output_type": "stream",
     "text": [
      "Accuracy of CV - Random Forest: 0.8565 (0.0194)\n",
      "Accuracy of CV - SVM: 0.8832 (0.0222)\n",
      "Accuracy of CV - XGBoost: 0.8117 (0.0277)\n"
     ]
    }
   ],
   "source": [
    "from sklearn.model_selection import KFold\n",
    "from sklearn.model_selection import cross_val_score\n",
    "from statistics import mean, stdev\n",
    "\n",
    "cv = KFold(n_splits=10, random_state=1, shuffle=True)\n",
    "\n",
    "RFTree2_scores = cross_val_score(RFTree2, X, y, scoring='accuracy', cv=cv, n_jobs=-1)\n",
    "SVM2_scores = cross_val_score(SVM2, X, y, scoring='accuracy', cv=cv, n_jobs=-1)\n",
    "XGB2_scores = cross_val_score(XGB2, X, y, scoring='accuracy', cv=cv, n_jobs=-1)\n",
    "\n",
    "print('Accuracy of CV - Random Forest: %.4f (%.4f)' % (mean(RFTree2_scores), stdev(RFTree2_scores)))\n",
    "print('Accuracy of CV - SVM: %.4f (%.4f)' % (mean(SVM2_scores), stdev(SVM2_scores)))\n",
    "print('Accuracy of CV - XGBoost: %.4f (%.4f)' % (mean(XGB2_scores), stdev(XGB2_scores)))"
   ]
  },
  {
   "cell_type": "code",
   "execution_count": 60,
   "id": "3e95701a",
   "metadata": {
    "colab": {
     "base_uri": "https://localhost:8080/",
     "height": 296
    },
    "id": "AcEpLOZy3Ef9",
    "outputId": "db160686-f716-4157-ddc7-c018f7f1da49"
   },
   "outputs": [
    {
     "data": {
      "image/png": "[encoded data removed]",
      "text/plain": [
       "<Figure size 432x288 with 1 Axes>"
      ]
     },
     "metadata": {
      "needs_background": "light"
     },
     "output_type": "display_data"
    }
   ],
   "source": [
    "from sklearn.metrics import roc_curve\n",
    "\n",
    "fpr, tpr, thresholds = roc_curve(y_test, SVM2_pred)\n",
    "\n",
    "plt.figure(figsize=(6,4))\n",
    "plt.plot(fpr, tpr, linewidth=2)\n",
    "plt.plot([0,1], [0,1], 'k--' )\n",
    "plt.rcParams['font.size'] = 12\n",
    "plt.title('ROC curve for SVM Water Quality')\n",
    "plt.xlabel('False Positive Rate')\n",
    "plt.ylabel('True Positive Rate')\n",
    "plt.show()"
   ]
  },
  {
   "cell_type": "code",
   "execution_count": 61,
   "id": "43782bfa",
   "metadata": {
    "colab": {
     "base_uri": "https://localhost:8080/"
    },
    "id": "17yqCYJL3jjj",
    "outputId": "4bda358a-163a-4df5-b256-07bb1e587d53"
   },
   "outputs": [
    {
     "name": "stdout",
     "output_type": "stream",
     "text": [
      "ROC AUC : 0.8208\n"
     ]
    }
   ],
   "source": [
    "from sklearn.metrics import roc_auc_score\n",
    "\n",
    "ROC_AUC = roc_auc_score(y_test, SVM2_pred)\n",
    "print('ROC AUC : {:.4f}'.format(ROC_AUC))"
   ]
  },
  {
   "cell_type": "code",
   "execution_count": 62,
   "id": "c0c061b0",
   "metadata": {
    "colab": {
     "base_uri": "https://localhost:8080/"
    },
    "id": "syBAJ3w23we-",
    "outputId": "b3a5e6b4-2488-489e-a69a-92a95fd0098d"
   },
   "outputs": [
    {
     "name": "stdout",
     "output_type": "stream",
     "text": [
      "Cross validated ROC AUC : 0.8727\n"
     ]
    }
   ],
   "source": [
    "Cross_validated_ROC_AUC = cross_val_score(SVM2, X_train, y_train, cv=10, scoring='roc_auc').mean()\n",
    "\n",
    "print('Cross validated ROC AUC : {:.4f}'.format(Cross_validated_ROC_AUC))"
   ]
  }
 ],
 "metadata": {
  "kernelspec": {
   "display_name": "Python 3",
   "language": "python",
   "name": "python3"
  },
  "language_info": {
   "codemirror_mode": {
    "name": "ipython",
    "version": 3
   },
   "file_extension": ".py",
   "mimetype": "text/x-python",
   "name": "python",
   "nbconvert_exporter": "python",
   "pygments_lexer": "ipython3",
   "version": "3.8.8"
  }
 },
 "nbformat": 4,
 "nbformat_minor": 5
}
